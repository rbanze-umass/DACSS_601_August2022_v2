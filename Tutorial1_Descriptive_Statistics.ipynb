{
  "nbformat": 4,
  "nbformat_minor": 0,
  "metadata": {
    "colab": {
      "provenance": [],
      "collapsed_sections": [],
      "include_colab_link": true
    },
    "kernelspec": {
      "name": "ir",
      "display_name": "R"
    },
    "language_info": {
      "name": "R"
    }
  },
  "cells": [
    {
      "cell_type": "markdown",
      "metadata": {
        "id": "view-in-github",
        "colab_type": "text"
      },
      "source": [
        "<a href=\"https://colab.research.google.com/github/rbanze-umass/DACSS_601_August2022_v2/blob/template/Tutorial1_Descriptive_Statistics.ipynb\" target=\"_parent\"><img src=\"https://colab.research.google.com/assets/colab-badge.svg\" alt=\"Open In Colab\"/></a>"
      ]
    },
    {
      "cell_type": "markdown",
      "source": [
        "# How to complete the tutorial\n",
        "\n",
        "- read through the text and run code chunks!\n",
        "- some code chunks are already filled in for you.\n",
        "- others don't have code in them, just write your own code based on instructions.\n",
        "- feel free to add text or code blocks of your own, take notes, and then save a copy to your own Google Drive. (you might need to do this last step first.)\n",
        "- some of the things you find here might be on the weekly quiz."
      ],
      "metadata": {
        "id": "U618bf65GUBQ"
      }
    },
    {
      "cell_type": "markdown",
      "source": [
        "# Load Data\n",
        "\n",
        "We will use the 'penguins' dataset from the **[palmerpenguins](https://allisonhorst.github.io/palmerpenguins/)** dataset for this tutorial."
      ],
      "metadata": {
        "id": "LTcCr-fwnuim"
      }
    },
    {
      "cell_type": "code",
      "execution_count": null,
      "metadata": {
        "id": "Yaa6hh40mTXT"
      },
      "outputs": [],
      "source": [
        "install.packages('palmerpenguins')\n",
        "library(palmerpenguins)\n",
        "data('penguins', package = 'palmerpenguins')"
      ]
    },
    {
      "cell_type": "markdown",
      "source": [
        "It's a good idea to just use the `head()` function to print some of the dataset. Because the dataset directly comes in a tibble format, below every column name is a tag such as <fct> (factor) or <dbl> (double) that indicates what type (class) that variable is."
      ],
      "metadata": {
        "id": "xqWKnc5ApCvR"
      }
    },
    {
      "cell_type": "code",
      "source": [
        "head(penguins, n = 10)"
      ],
      "metadata": {
        "id": "JQeHOvKLm_3H"
      },
      "execution_count": null,
      "outputs": []
    },
    {
      "cell_type": "markdown",
      "source": [
        "The `penguins` dataset has one observation in every row---a feature of tidy datasets. In the code chunk below, use the `nrow()` function to check out how many observations (i.e. rows) the dataset has."
      ],
      "metadata": {
        "id": "z2o3PHdOrKnZ"
      }
    },
    {
      "cell_type": "code",
      "source": [
        "# Write code here"
      ],
      "metadata": {
        "id": "uAuoFwnesW4r"
      },
      "execution_count": null,
      "outputs": []
    },
    {
      "cell_type": "markdown",
      "source": [
        "# Check missing values\n",
        "\n",
        "When we used the `head()` function, we saw that there were some missing values (NA). The `is.na()` function can be used to identify missing values. However, it's output is not super useful for large datasets. For example, let's see the missing values in the `bill_length_mm` variable:"
      ],
      "metadata": {
        "id": "gzZa_uXZsod_"
      }
    },
    {
      "cell_type": "code",
      "source": [
        "is.na(penguins$bill_length_mm)"
      ],
      "metadata": {
        "id": "BX7MsGhmtVcX"
      },
      "execution_count": null,
      "outputs": []
    },
    {
      "cell_type": "markdown",
      "source": [
        "This is not very useful. A more useful information can be the indices of the observations for which `bill_length_mm` is missing. We can use the `which()` function for that:"
      ],
      "metadata": {
        "id": "6undnIz6uUjV"
      }
    },
    {
      "cell_type": "code",
      "source": [
        "which(is.na(penguins$bill_depth_mm))"
      ],
      "metadata": {
        "id": "oaiknzyNvJ5x"
      },
      "execution_count": null,
      "outputs": []
    },
    {
      "cell_type": "markdown",
      "source": [
        "You can use the `complete.cases()` function to find all observations for which no variable is missing. You can use `na.omit()` to return a dataframe where any observation with any missing variable is eliminated. The exploration of those functions are left to you.\n",
        "\n",
        "In general, when you encounter missing values, it's best to explore why they are missing, whether there is a large number of missing values, and if it appears to be systematic. (e.g. all values from a time period or place is missing or its missing for a particular demographic etc.)"
      ],
      "metadata": {
        "id": "sOQkf4FR-orS"
      }
    },
    {
      "cell_type": "markdown",
      "source": [
        "# Summarizing Information\n",
        "\n",
        "Use the `summary()` function on the `penguins` tibble. Do any of the other variables have missing values? "
      ],
      "metadata": {
        "id": "Hd49zjAopY0_"
      }
    },
    {
      "cell_type": "code",
      "source": [
        "summary(penguins)"
      ],
      "metadata": {
        "id": "nIVMU8Xcq6_j"
      },
      "execution_count": null,
      "outputs": []
    },
    {
      "cell_type": "markdown",
      "source": [
        "The `glimpse()` function from the dplyr package provides another way of summarizing the information in a dataframe."
      ],
      "metadata": {
        "id": "6b1niURUIzgR"
      }
    },
    {
      "cell_type": "code",
      "source": [
        "library(dplyr)\n",
        "glimpse(penguins)"
      ],
      "metadata": {
        "id": "zhURb-IUJwi_"
      },
      "execution_count": null,
      "outputs": []
    },
    {
      "cell_type": "markdown",
      "source": [
        "# Mean, Median, Variance, and Standard Deviation\n",
        "\n",
        "We use the `mean()` function to calculate the mean of a variable. Let's use it to calculate the mean of the `bill_length_mm` variable. Because the variable has missing values, we need to set the `na.rm` argument to `TRUE` (or just `T`) so that it ignores the missing values when doing the calculation. We'll need to do that for some other functions too."
      ],
      "metadata": {
        "id": "1OW4U2g0DrJ9"
      }
    },
    {
      "cell_type": "code",
      "source": [
        "mean(penguins$bill_length_mm, na.rm = T)"
      ],
      "metadata": {
        "id": "DBv5NAGQEC60"
      },
      "execution_count": null,
      "outputs": []
    },
    {
      "cell_type": "markdown",
      "source": [
        "The median is another measure of central tendency. Use the `median()` function to calculate the median."
      ],
      "metadata": {
        "id": "htf-Dm_lEeLh"
      }
    },
    {
      "cell_type": "code",
      "source": [
        "# Write code here"
      ],
      "metadata": {
        "id": "wNK9iP2XEson"
      },
      "execution_count": null,
      "outputs": []
    },
    {
      "cell_type": "markdown",
      "source": [
        "The `var()` function calculates the (sample) variance. Let's use it to calculate the variance of the `bill_length_mm` variable."
      ],
      "metadata": {
        "id": "Ks8r-INPDuCI"
      }
    },
    {
      "cell_type": "code",
      "source": [
        "var(penguins$bill_length_mm, na.rm = T)\n"
      ],
      "metadata": {
        "id": "Yy6w6wuf32i8"
      },
      "execution_count": null,
      "outputs": []
    },
    {
      "cell_type": "markdown",
      "source": [
        "The `sd()` function calculates the (sample) standard deviation. Standard deviation is the square root of variance. Let's take the sd() of the `bill_length_mm` variable"
      ],
      "metadata": {
        "id": "tNfbm6WDDXVs"
      }
    },
    {
      "cell_type": "code",
      "source": [
        "sd(penguins$bill_length_mm, na.rm = T)"
      ],
      "metadata": {
        "id": "c9pj5FM-OTma"
      },
      "execution_count": null,
      "outputs": []
    },
    {
      "cell_type": "markdown",
      "source": [
        "Let's see if it actually equals the square root of the variance."
      ],
      "metadata": {
        "id": "JpuqdaQxEZ6w"
      }
    },
    {
      "cell_type": "code",
      "source": [
        "sqrt(var(penguins$bill_length_mm, na.rm = T)) == sd(penguins$bill_length_mm, na.rm = T)"
      ],
      "metadata": {
        "id": "elqiTUEdEeD6"
      },
      "execution_count": null,
      "outputs": []
    },
    {
      "cell_type": "markdown",
      "source": [
        "Do you expect the variance, standard deviation and mean of the `flipper_length_mm` variable to be higher or lower based on your knowledge of the penguin anotomy?\n",
        "\n",
        "Calculate the variance, standard deviation and mean of the `flipper_length_mm` variable and see if it's what you expect."
      ],
      "metadata": {
        "id": "21G88gAhEyhl"
      }
    },
    {
      "cell_type": "code",
      "source": [
        "# Write code here"
      ],
      "metadata": {
        "id": "4Ud4MIPoFQNI"
      },
      "execution_count": null,
      "outputs": []
    },
    {
      "cell_type": "markdown",
      "source": [
        "# Minimum, Maximum, Range, and Interquartile Range"
      ],
      "metadata": {
        "id": "XPCO8AlrE9Pt"
      }
    },
    {
      "cell_type": "markdown",
      "source": [
        "The `max()` and `min()` functions can be used to calculate the maximum and minimum of a variable."
      ],
      "metadata": {
        "id": "V__kvgzxFQ_h"
      }
    },
    {
      "cell_type": "code",
      "source": [
        "max(penguins$bill_length_mm, na.rm = T)\n",
        "min(penguins$bill_length_mm, na.rm = T)\n"
      ],
      "metadata": {
        "id": "cx9z_5RkH9ke"
      },
      "execution_count": null,
      "outputs": []
    },
    {
      "cell_type": "markdown",
      "source": [
        "The `range` of the variable is the difference between its maximum and minimum value---but the `range()` function in R will give the maximum and minimum value, allowing one to calculate the difference or to just state the plausible set of values the variable could take."
      ],
      "metadata": {
        "id": "bAS8WXmPIitb"
      }
    },
    {
      "cell_type": "code",
      "source": [
        "range(penguins$bill_length_mm, na.rm = T)"
      ],
      "metadata": {
        "id": "384nYQO0IV_n"
      },
      "execution_count": null,
      "outputs": []
    },
    {
      "cell_type": "markdown",
      "source": [
        "We could use the `diff()` function if we were interested in the difference."
      ],
      "metadata": {
        "id": "mtTLTeffMnXI"
      }
    },
    {
      "cell_type": "code",
      "source": [
        "diff(range(penguins$bill_length_mm, na.rm = T))"
      ],
      "metadata": {
        "id": "fcHjTut3Ms7w"
      },
      "execution_count": null,
      "outputs": []
    },
    {
      "cell_type": "markdown",
      "source": [
        "The interquartile range---the difference between the third (upper) and first (lower) quartile---is calculated with the `IQR()` function."
      ],
      "metadata": {
        "id": "H-_T2-J4JiDZ"
      }
    },
    {
      "cell_type": "code",
      "source": [
        "IQR(penguins$bill_length_mm, na.rm = T)"
      ],
      "metadata": {
        "id": "30YSgXk5JRFB"
      },
      "execution_count": null,
      "outputs": []
    },
    {
      "cell_type": "markdown",
      "source": [
        "# Histograms: Visualize the distribution of a data\n",
        "\n",
        "We can draw a histogram to get a better sense of how the data is distributed."
      ],
      "metadata": {
        "id": "w5_8ilQ4NWXg"
      }
    },
    {
      "cell_type": "code",
      "source": [
        "library(ggplot2)\n",
        "\n",
        "ggplot(penguins, aes(x = bill_length_mm)) +\n",
        "  geom_histogram()"
      ],
      "metadata": {
        "id": "jGmW5aoSQ4hF"
      },
      "execution_count": null,
      "outputs": []
    },
    {
      "cell_type": "markdown",
      "source": [
        "**Your turn:** Calculate the range and interquartile range of the `flipper_length_mm` variable."
      ],
      "metadata": {
        "id": "bsEB98BEKyye"
      }
    },
    {
      "cell_type": "code",
      "source": [
        "# Write code here:"
      ],
      "metadata": {
        "id": "fStVM3o8LHbF"
      },
      "execution_count": null,
      "outputs": []
    },
    {
      "cell_type": "markdown",
      "source": [
        "Now draw the histogram."
      ],
      "metadata": {
        "id": "OUn1R7IcRMhh"
      }
    },
    {
      "cell_type": "code",
      "source": [
        "# Write code here:"
      ],
      "metadata": {
        "id": "jJKxS7uQYMIJ"
      },
      "execution_count": null,
      "outputs": []
    },
    {
      "cell_type": "markdown",
      "source": [
        "Notice that both histograms look like they have more than one center (bi-modal or tri-modal as opposed to unimodal). This can be because there are systematic differences within the subgroups of observations. Plot the `flipper_length_mm` as separate histograms for each species and sex. \n",
        "\n",
        "(**Hint:** Add `+ facet_grid(species ~ sex)` to the previous histogram. If you don't want NA's to be plotted, wrap `penguins` with `na.omit()` i.e. use `na.omit(penguins)` as your data.)"
      ],
      "metadata": {
        "id": "DUOlvLxnYcAa"
      }
    },
    {
      "cell_type": "code",
      "source": [
        "# Write code here\n"
      ],
      "metadata": {
        "id": "cf92_OEKRRPO"
      },
      "execution_count": null,
      "outputs": []
    },
    {
      "cell_type": "markdown",
      "source": [
        "Just by looking at the graph, do you think each species has a different mean `flipper_length_mm` value? In other words, would your best guess of a flipper length for a penguin change if you knew which species it belonged to? How about `sex`? \n",
        "\n",
        "We can calculate the mean value for each subgroup. Let's calculate the mean flipper length for female Adelie penguins:"
      ],
      "metadata": {
        "id": "nE_uovKdamOf"
      }
    },
    {
      "cell_type": "code",
      "source": [
        "penguins %>%\n",
        "  filter(species == 'Adelie' & sex == 'female') %>%\n",
        "  pull(flipper_length_mm) %>%\n",
        "  mean()\n",
        "\n"
      ],
      "metadata": {
        "id": "b_H4LH8eboPS"
      },
      "execution_count": null,
      "outputs": []
    },
    {
      "cell_type": "markdown",
      "source": [
        "**Your turn:** Looking at the histogram, do you expect the value to be higher or lower? Calculate the mean flipper_length of the male Gentoo kangoroos.\n"
      ],
      "metadata": {
        "id": "MyBWR0_Cczku"
      }
    },
    {
      "cell_type": "code",
      "source": [
        "# Write code here"
      ],
      "metadata": {
        "id": "ZIBJvIR8dN1X"
      },
      "execution_count": null,
      "outputs": []
    },
    {
      "cell_type": "markdown",
      "source": [
        "Variance (and thus standard deviation) is a measure of uncertainty. A high variance indicates high uncertainty. If knowing the species and sex makes our guesses about mean values better, then it should also reduce the variance, i.e. uncertainty, around our guess.\n",
        "\n",
        "Let's calculate the variance of `flipper_length_mm` for female Adelie penguins."
      ],
      "metadata": {
        "id": "4TzsUSqpdVng"
      }
    },
    {
      "cell_type": "code",
      "source": [
        "penguins %>%\n",
        "  filter(species == 'Adelie' & sex == 'female') %>%\n",
        "  pull(flipper_length_mm) %>%\n",
        "  var()"
      ],
      "metadata": {
        "id": "OVfaCUeveiLE"
      },
      "execution_count": null,
      "outputs": []
    },
    {
      "cell_type": "markdown",
      "source": [
        "Is this variance really lower than what you previously found for the whole `flipper_length_mm` variable?"
      ],
      "metadata": {
        "id": "nRny1mfUfFH5"
      }
    }
  ]
}